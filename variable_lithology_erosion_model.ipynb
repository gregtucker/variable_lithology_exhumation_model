{
 "cells": [
  {
   "cell_type": "markdown",
   "metadata": {},
   "source": [
    "# Variable lithology erosion model\n",
    "\n",
    "This notebook contains an implementation of a simple landscape evolution model. The model has two layers: a soft sedimentary cover (high $K$) overlying a hard crystalline basement (low $K$). The purpose is to investigate how continuous exumation of this soft-on-hard material would be manifest in exhumation history, and thus in low-temperature thermochronometers such as (U-Th)/He.\n",
    "\n",
    "Written by Greg Tucker and Becky Flowers starting October 2017"
   ]
  },
  {
   "cell_type": "markdown",
   "metadata": {},
   "source": [
    "Step 1: define a TwoLayerErosionModel class"
   ]
  },
  {
   "cell_type": "code",
   "execution_count": 89,
   "metadata": {},
   "outputs": [],
   "source": [
    "import numpy as np\n",
    "from landlab import load_params\n",
    "from landlab.components import (FlowAccumulator, FastscapeEroder, \n",
    "                                DepressionFinderAndRouter, LinearDiffuser)\n",
    "from landlab.io.netcdf import write_raster_netcdf\n",
    "\n",
    "class TwoLayerErosionModel(object):\n",
    "    \"\"\"\n",
    "    A TwoLayerErosionModel is a simple model for erosion and landscape \n",
    "    evolution that manifests a soft sediment cover (high erodibility) over\n",
    "    a hard crystalline basement (low erodibility).\n",
    "    \"\"\"\n",
    "\n",
    "    def __init__(self, \n",
    "                 input_file=None, \n",
    "                 params=None):\n",
    "        \"\"\"\n",
    "        Handles inputs, sets params.\n",
    "        \"\"\"\n",
    "\n",
    "        # Make sure user has given us an input file or parameter dictionary\n",
    "        # (but not both)\n",
    "        if input_file is None and params is None:\n",
    "            print('You must specify either an input_file or params dict')\n",
    "            sys.exit(1)\n",
    "        if input_file is not None and params is not None:\n",
    "            print('ErosionModel constructor takes EITHER')\n",
    "            print('input_file or params, but not both.')\n",
    "            sys.exit(1)\n",
    "\n",
    "        # If we have an input file, let's read it\n",
    "        if input_file is None:\n",
    "            self.params = params\n",
    "        else:\n",
    "            self.params = load_params(input_file)                \n",
    "\n",
    "        try:\n",
    "            nr = self.params['number_of_node_rows']\n",
    "            nc = self.params['number_of_node_columns']\n",
    "            dx = self.params['node_spacing']\n",
    "        except KeyError:\n",
    "            print('Warning: no DEM or grid shape specified. '\n",
    "                    'Creating simple raster grid')\n",
    "            nr = 4\n",
    "            nc = 5\n",
    "            dx = 1.0\n",
    "\n",
    "        from landlab import RasterModelGrid\n",
    "        self.grid = RasterModelGrid((nr, nc), dx)\n",
    "        self.z = self.grid.add_zeros('node', 'topographic__elevation')\n",
    "        np.random.seed(0)\n",
    "        self.z[:] = np.random.rand(self.z.size)\n",
    "\n",
    "        # initialize model time. \n",
    "        self.model_time = 0.\n",
    "\n",
    "        # Add fields for initial topography and cumulative erosion depth\n",
    "        self.z0 = self.grid.add_zeros('node', 'initial_topographic__elevation')\n",
    "        self.z0[:] = self.z  # keep a copy of starting elevation\n",
    "        self.cum_ero = self.grid.add_zeros('node', 'cumulative_erosion__depth')\n",
    "        \n",
    "        # Set up the field of erodibility values\n",
    "        self.setup_erodibility(params)\n",
    "\n",
    "        # Set up components\n",
    "        self.create_and_initialize_components(params)\n",
    "        \n",
    "        # Read and remember uplift rate\n",
    "        self.uplift_rate = params['uplift_rate']\n",
    "        \n",
    "        # Variable for mean elev vs time\n",
    "        self.mean_elev = np.zeros(int(params['run_duration'] / \n",
    "                                  params['dt']) + 1)\n",
    "\n",
    "    def setup_erodibility(self, params):\n",
    "        \"\"\"Create and initialize field for erodibility.\"\"\"\n",
    "        self.K_soft = params['K_soft']\n",
    "        self.K_hard = params['K_hard']\n",
    "        self.contact_depth = params['lithologic_contact__depth']\n",
    "        self.erodibility = self.grid.add_zeros('node', 'erodibility')\n",
    "        self.erodibility[:] = self.K_soft\n",
    "\n",
    "    def update_erodibility_field(self):\n",
    "        \"\"\"Update erodibilities based on exposed lithology.\"\"\"\n",
    "        basement_exposed = np.where(self.cum_ero > self.contact_depth)[0]\n",
    "        self.erodibility[:] = self.K_soft\n",
    "        self.erodibility[basement_exposed] = self.K_hard\n",
    "\n",
    "    def create_and_initialize_components(self, params):\n",
    "        \"\"\"Create and initialize the process components: flow routing,\n",
    "        channel erosion, hillslope erosion.\"\"\"\n",
    "\n",
    "        # Instantiate a FlowAccumulator with DepressionFinderAndRouter using D8 method\n",
    "        self.flow_router = FlowAccumulator(self.grid,\n",
    "                                           flow_director='D8',\n",
    "                                           depression_finder = DepressionFinderAndRouter)\n",
    "\n",
    "        # Instantiate a FastscapeEroder component\n",
    "        self.eroder = FastscapeEroder(self.grid, \n",
    "                                      K_sp=self.erodibility,\n",
    "                                      m_sp=params['m_sp'],\n",
    "                                      n_sp=params['n_sp'])\n",
    "\n",
    "        # Instantiate a LinearDiffuser component\n",
    "        self.diffuser = LinearDiffuser(self.grid,\n",
    "                                       linear_diffusivity=params['linear_diffusivity'])\n",
    "\n",
    "    def calculate_cumulative_change(self):\n",
    "        \"\"\"Calculate cumulative node-by-node changes in elevation.\n",
    "        \n",
    "        Store result in grid field.\n",
    "        \"\"\"\n",
    "        self.cum_ero = self.z0 - self.z\n",
    "\n",
    "    def write_output(self, params, field_names=None):\n",
    "        \"\"\"Write output to file (currently netCDF).\"\"\"\n",
    "        \n",
    "        # Exclude fields with int64 (incompatible with netCDF3)\n",
    "        if field_names is None:\n",
    "            field_names = []\n",
    "            for field in self.grid.at_node:\n",
    "                if type(self.grid.at_node[field][0]) is not np.int64:\n",
    "                    field_names.append(field)\n",
    "        \n",
    "        self.calculate_cumulative_change()\n",
    "        filename = self.params['output_filename'] + str(self.iteration).zfill(4) \\\n",
    "                    + '.nc'\n",
    "        write_raster_netcdf(filename, self.grid, names=field_names, format='NETCDF4')\n",
    "\n",
    "    def run_one_step(self, dt):\n",
    "        \"\"\"\n",
    "        Run each component for one time step.\n",
    "        \"\"\"\n",
    "        \n",
    "        # Route flow\n",
    "        self.flow_router.run_one_step()\n",
    "\n",
    "        # Get IDs of flooded nodes, if any\n",
    "        flooded = np.where(self.flow_router.depression_finder.flood_status==3)[0]\n",
    "\n",
    "        # Update erodibility field based on exposure of basement\n",
    "        self.update_erodibility_field()\n",
    "\n",
    "        # Do some erosion (but not on the flooded nodes)\n",
    "        self.eroder.run_one_step(dt, flooded_nodes=flooded)\n",
    "\n",
    "        # Do some soil creep\n",
    "        self.diffuser.run_one_step(dt)\n",
    "        \n",
    "        # Do some uplift\n",
    "        self.z[self.grid.core_nodes] += self.uplift_rate * dt\n",
    "        self.z0[self.grid.core_nodes] += self.uplift_rate * dt\n",
    "\n",
    "        # Update cumulative erosion\n",
    "        self.calculate_cumulative_change()\n",
    "\n",
    "        # calculate model time\n",
    "        self.model_time += dt\n",
    "        \n",
    "        # Remember mean elevation and cum elev\n",
    "        self.mean_elev[int(round(self.model_time / dt))] = np.mean(self.z[self.grid.core_nodes])\n",
    "        self.mean_cum_elev[int(round(self.model_time / dt))] = np.mean(self.z[self.grid.core_nodes])\n",
    "\n",
    "    def finalize(self):\n",
    "        \"\"\"\n",
    "        Finalize model\n",
    "        \"\"\"\n",
    "        pass\n",
    "    \n",
    "    def run_for(self, dt, runtime):\n",
    "        \"\"\"\n",
    "        Run model without interruption for a specified time period.\n",
    "        \"\"\"\n",
    "        elapsed_time = 0.\n",
    "        keep_running = True\n",
    "        while keep_running:\n",
    "            if elapsed_time+dt >= runtime:\n",
    "                dt = runtime-elapsed_time\n",
    "                keep_running = False\n",
    "            self.run_one_step(dt)\n",
    "            elapsed_time += dt\n",
    "\n",
    "    def run(self, output_fields=None):\n",
    "        \"\"\"\n",
    "        Run the model until complete.\n",
    "        \"\"\"\n",
    "        total_run_duration = self.params['run_duration']\n",
    "        output_interval = self.params['output_interval']\n",
    "        self.iteration = 1\n",
    "        time_now = self.model_time\n",
    "        while time_now < total_run_duration:\n",
    "            next_run_pause = min(time_now + output_interval, total_run_duration)\n",
    "            self.run_for(self.params['dt'], next_run_pause - time_now)\n",
    "            time_now = next_run_pause\n",
    "            self.write_output(self.params, field_names=output_fields)\n",
    "            self.iteration += 1\n",
    "            \n",
    "        self.finalize()"
   ]
  },
  {
   "cell_type": "code",
   "execution_count": 104,
   "metadata": {
    "collapsed": true
   },
   "outputs": [],
   "source": [
    "my_params = {\n",
    "    'K_soft' : 0.01,\n",
    "    'K_hard' : 0.0001,\n",
    "    'm_sp' : 0.5,\n",
    "    'n_sp' : 1.0,\n",
    "    'lithologic_contact__depth' : 3000.0,\n",
    "    'run_duration' : 3.05e5,\n",
    "    'output_interval' : 3.05e5,\n",
    "    'linear_diffusivity' : 0.01,\n",
    "    'dt' : 1000.0,\n",
    "    'number_of_node_rows' : 60,\n",
    "    'number_of_node_columns' : 100,\n",
    "    'node_spacing' : 1000.0,\n",
    "    'uplift_rate' : 0.01,\n",
    "    'output_filename' : 'test_two_layer_model.nc'\n",
    "}"
   ]
  },
  {
   "cell_type": "code",
   "execution_count": 105,
   "metadata": {},
   "outputs": [],
   "source": [
    "model = TwoLayerErosionModel(params=my_params)"
   ]
  },
  {
   "cell_type": "code",
   "execution_count": 106,
   "metadata": {},
   "outputs": [],
   "source": [
    "model.run()"
   ]
  },
  {
   "cell_type": "code",
   "execution_count": 107,
   "metadata": {},
   "outputs": [
    {
     "data": {
      "image/png": "[encoded data removed]",
      "text/plain": [
       "<matplotlib.figure.Figure at 0x112bf13d0>"
      ]
     },
     "metadata": {},
     "output_type": "display_data"
    }
   ],
   "source": [
    "from landlab import imshow_grid\n",
    "%matplotlib inline\n",
    "\n",
    "imshow_grid(model.grid, model.z)"
   ]
  },
  {
   "cell_type": "code",
   "execution_count": 108,
   "metadata": {},
   "outputs": [
    {
     "data": {
      "image/png": "[encoded data removed]",
      "text/plain": [
       "<matplotlib.figure.Figure at 0x114ebcbd0>"
      ]
     },
     "metadata": {},
     "output_type": "display_data"
    }
   ],
   "source": [
    "imshow_grid(model.grid, model.erodibility)"
   ]
  },
  {
   "cell_type": "code",
   "execution_count": 109,
   "metadata": {},
   "outputs": [
    {
     "data": {
      "image/png": "[encoded data removed]",
      "text/plain": [
       "<matplotlib.figure.Figure at 0x102c0df10>"
      ]
     },
     "metadata": {},
     "output_type": "display_data"
    }
   ],
   "source": [
    "imshow_grid(model.grid, model.cum_ero)"
   ]
  },
  {
   "cell_type": "code",
   "execution_count": 111,
   "metadata": {},
   "outputs": [
    {
     "data": {
      "text/plain": [
       "<matplotlib.text.Text at 0x115410610>"
      ]
     },
     "execution_count": 111,
     "metadata": {},
     "output_type": "execute_result"
    },
    {
     "data": {
      "image/png": "[encoded data removed]",
      "text/plain": [
       "<matplotlib.figure.Figure at 0x112906250>"
      ]
     },
     "metadata": {},
     "output_type": "display_data"
    }
   ],
   "source": [
    "import matplotlib.pyplot as plt\n",
    "\n",
    "plt.plot(model.mean_elev)\n",
    "plt.xlabel('Time (ky)')\n",
    "plt.ylabel('Mean elevation (m)')"
   ]
  },
  {
   "cell_type": "code",
   "execution_count": null,
   "metadata": {
    "collapsed": true
   },
   "outputs": [],
   "source": []
  }
 ],
 "metadata": {
  "kernelspec": {
   "display_name": "Python 2",
   "language": "python",
   "name": "python2"
  },
  "language_info": {
   "codemirror_mode": {
    "name": "ipython",
    "version": 2
   },
   "file_extension": ".py",
   "mimetype": "text/x-python",
   "name": "python",
   "nbconvert_exporter": "python",
   "pygments_lexer": "ipython2",
   "version": "2.7.13"
  }
 },
 "nbformat": 4,
 "nbformat_minor": 2
}
